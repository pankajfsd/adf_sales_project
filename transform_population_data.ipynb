{
 "cells": [
  {
   "cell_type": "markdown",
   "metadata": {
    "application/vnd.databricks.v1+cell": {
     "cellMetadata": {},
     "inputWidgets": {},
     "nuid": "ba2c0fd4-6b5c-49ec-8c5f-35af9964dad8",
     "showTitle": false,
     "title": ""
    }
   },
   "source": [
    "## Transform Population By Age data by performing the transformations below\n",
    "####-----------------------------------------------------------------------\n",
    "1. Split the country code & age group\n",
    "2. Exclude all data other than 2019\n",
    "3. Remove non numeric data from percentage\n",
    "4. Pivot the data by age group\n",
    "5. Join to dim_country to get the country, 3 digit country code and the total population.\n",
    "\n",
    "####-----------------------------------------------------------------------"
   ]
  },
  {
   "cell_type": "markdown",
   "metadata": {
    "application/vnd.databricks.v1+cell": {
     "cellMetadata": {},
     "inputWidgets": {},
     "nuid": "3470b7be-5ec3-4c24-a5e9-621db48ad24f",
     "showTitle": false,
     "title": ""
    }
   },
   "source": [
    "### Replace **storage account name** with your storage account name before executing. "
   ]
  },
  {
   "cell_type": "code",
   "execution_count": 0,
   "metadata": {
    "application/vnd.databricks.v1+cell": {
     "cellMetadata": {
      "byteLimit": 2048000,
      "rowLimit": 10000
     },
     "inputWidgets": {},
     "nuid": "30e8ce05-a546-42f7-8383-3507e86b629a",
     "showTitle": false,
     "title": ""
    }
   },
   "outputs": [],
   "source": [
    "from pyspark.sql.functions import *"
   ]
  },
  {
   "cell_type": "markdown",
   "metadata": {
    "application/vnd.databricks.v1+cell": {
     "cellMetadata": {},
     "inputWidgets": {},
     "nuid": "af883d11-2cc1-4ebb-8c42-610d5cccb79d",
     "showTitle": false,
     "title": ""
    }
   },
   "source": [
    "### Read the population data & create a temp view"
   ]
  },
  {
   "cell_type": "code",
   "execution_count": 0,
   "metadata": {
    "application/vnd.databricks.v1+cell": {
     "cellMetadata": {
      "byteLimit": 2048000,
      "rowLimit": 10000
     },
     "inputWidgets": {},
     "nuid": "51441b97-7bad-4fe0-9a21-60d00a5b3249",
     "showTitle": false,
     "title": ""
    }
   },
   "outputs": [],
   "source": [
    "df_raw_population = spark.read.csv(\"/mnt/covidprojadls/raw/population\", sep=r'\\t', header=True)"
   ]
  },
  {
   "cell_type": "code",
   "execution_count": 0,
   "metadata": {
    "application/vnd.databricks.v1+cell": {
     "cellMetadata": {
      "byteLimit": 2048000,
      "rowLimit": 10000
     },
     "inputWidgets": {},
     "nuid": "c11634d2-0fd3-4f7e-a1e0-98384eeeed84",
     "showTitle": false,
     "title": ""
    }
   },
   "outputs": [
    {
     "output_type": "stream",
     "name": "stdout",
     "output_type": "stream",
     "text": [
      "+-----------------+-----+-----+-----+------+-----+-----+-----+-----+-----+-----+-----+-----+\n|indic_de,geo\\time|2008 |2009 |2010 | 2011 |2012 |2013 |2014 |2015 |2016 |2017 |2018 |2019 |\n+-----------------+-----+-----+-----+------+-----+-----+-----+-----+-----+-----+-----+-----+\n|      PC_Y0_14,AD|14.6 |14.5 |14.5 | 15.5 |15.5 |15.5 |   : |   : |   : |   : |   : |13.9 |\n|      PC_Y0_14,AL|24.1 |23.3 |22.5 | 21.6 |20.7 |20.1 |19.6 |19.0 |18.5 |18.2 |17.7 |17.2 |\n|      PC_Y0_14,AM|19.0 |18.6 |18.3 |    : |   : |   : |   : |19.4 |19.6 |20.0 |20.2 |20.2 |\n|      PC_Y0_14,AT|15.4 |15.1 |14.9 | 14.7 |14.6 |14.4 |14.3 |14.3 |14.3 |14.4 |14.4 |14.4 |\n|      PC_Y0_14,AZ|23.2 |22.6 |22.6 | 22.3 |22.2 |22.3 |22.4 |22.4 |22.5 |22.6 |22.6 |22.4 |\n|      PC_Y0_14,BE|16.9 |16.9 |16.9 |17.0 b|17.0 |17.0 |17.0 |17.0 |17.0 |17.0 |17.0 |16.9 |\n|      PC_Y0_14,BG|13.1 |13.1 |13.2 | 13.2 |13.4 |13.6 |13.7 |13.9 |14.0 |14.1 |14.2 |14.4 |\n|      PC_Y0_14,BY|14.7 |14.6 |   : | 14.9 |15.1 |15.4 |15.7 |16.0 |16.3 |16.6 |16.8 |16.9 |\n|      PC_Y0_14,CH|15.5 |15.3 |15.2 |15.1 b|15.0 |14.9 |14.9 |14.9 |14.9 |14.9 |15.0 |15.0 |\n|      PC_Y0_14,CY|18.2 |17.7 |17.2 | 16.8 |16.5 |16.4 |16.3 |16.4 |16.4 |16.3 |16.2 |16.1 |\n+-----------------+-----+-----+-----+------+-----+-----+-----+-----+-----+-----+-----+-----+\nonly showing top 10 rows\n\n"
     ]
    }
   ],
   "source": [
    "df_raw_population.show(10)"
   ]
  },
  {
   "cell_type": "code",
   "execution_count": 0,
   "metadata": {
    "application/vnd.databricks.v1+cell": {
     "cellMetadata": {
      "byteLimit": 2048000,
      "rowLimit": 10000
     },
     "inputWidgets": {},
     "nuid": "c4cc3340-d130-4cf8-ac84-e651824ef9fc",
     "showTitle": false,
     "title": ""
    }
   },
   "outputs": [],
   "source": [
    "df_raw_population1 = df_raw_population.withColumn('age_group', regexp_replace(split(df_raw_population['indic_de,geo\\\\time'], ',')[0], 'PC_', '')).withColumn('country_code', split(df_raw_population['indic_de,geo\\\\time'], ',')[1])\n",
    "\n",
    "df_raw_population2 = df_raw_population1.select(col(\"country_code\").alias(\"country_code\"),\n",
    "                                             col(\"age_group\").alias(\"age_group\"),\n",
    "                                             col(\"2019 \").alias(\"percentage_2019\"))\n",
    "                                             \n",
    "df_raw_population2.createOrReplaceTempView(\"raw_population\")"
   ]
  },
  {
   "cell_type": "code",
   "execution_count": 0,
   "metadata": {
    "application/vnd.databricks.v1+cell": {
     "cellMetadata": {
      "byteLimit": 2048000,
      "rowLimit": 10000
     },
     "inputWidgets": {},
     "nuid": "aaf683b3-a8f6-47bb-956e-0958c4d8a41e",
     "showTitle": false,
     "title": ""
    }
   },
   "outputs": [
    {
     "output_type": "stream",
     "name": "stdout",
     "output_type": "stream",
     "text": [
      "+------------+---------+---------------+\n|country_code|age_group|percentage_2019|\n+------------+---------+---------------+\n|          AD|    Y0_14|          13.9 |\n|          AL|    Y0_14|          17.2 |\n|          AM|    Y0_14|          20.2 |\n|          AT|    Y0_14|          14.4 |\n|          AZ|    Y0_14|          22.4 |\n|          BE|    Y0_14|          16.9 |\n|          BG|    Y0_14|          14.4 |\n|          BY|    Y0_14|          16.9 |\n|          CH|    Y0_14|          15.0 |\n|          CY|    Y0_14|          16.1 |\n+------------+---------+---------------+\n\n"
     ]
    }
   ],
   "source": [
    "spark.sql(\"select * from raw_population limit 10\").show()"
   ]
  },
  {
   "cell_type": "markdown",
   "metadata": {
    "application/vnd.databricks.v1+cell": {
     "cellMetadata": {},
     "inputWidgets": {},
     "nuid": "ec1478f5-a9b8-460d-9a88-f8e79529b3d8",
     "showTitle": false,
     "title": ""
    }
   },
   "source": [
    "### Pivot the data by age group"
   ]
  },
  {
   "cell_type": "code",
   "execution_count": 0,
   "metadata": {
    "application/vnd.databricks.v1+cell": {
     "cellMetadata": {
      "byteLimit": 2048000,
      "rowLimit": 10000
     },
     "inputWidgets": {},
     "nuid": "33ce9e2e-1851-4419-b222-b9470b01d920",
     "showTitle": false,
     "title": ""
    }
   },
   "outputs": [],
   "source": [
    "# Create a data frame with pivoted percentages\n",
    "df_raw_population_pivot = spark.sql(\"SELECT country_code, age_group, cast(regexp_replace(percentage_2019, '[a-z]', '') AS decimal(4,2)) AS percentage_2019 FROM raw_population WHERE length(country_code) = 2\").groupBy(\"country_code\").pivot(\"age_group\").sum(\"percentage_2019\").orderBy(\"country_code\")\n",
    "df_raw_population_pivot.createOrReplaceTempView(\"raw_population_pivot\")"
   ]
  },
  {
   "cell_type": "code",
   "execution_count": 0,
   "metadata": {
    "application/vnd.databricks.v1+cell": {
     "cellMetadata": {
      "byteLimit": 2048000,
      "rowLimit": 10000
     },
     "inputWidgets": {},
     "nuid": "d941fc22-421a-4c2e-a4da-43e58946e835",
     "showTitle": false,
     "title": ""
    }
   },
   "outputs": [
    {
     "output_type": "stream",
     "name": "stdout",
     "output_type": "stream",
     "text": [
      "+------------+-----+------+------+------+------+-------+\n|country_code|Y0_14|Y15_24|Y25_49|Y50_64|Y65_79|Y80_MAX|\n+------------+-----+------+------+------+------+-------+\n|          AD|13.90| 10.60| 39.40| 22.50| 10.20|   3.40|\n|          AL|17.20| 15.50| 33.00| 20.20| 11.40|   2.70|\n|          AM|20.20| 11.80| 36.90| 19.10|  9.00|   3.00|\n|          AT|14.40| 10.90| 34.00| 21.70| 13.80|   5.00|\n|          AZ|22.40| 14.10| 39.10| 17.60|  5.30|   1.50|\n|          BE|16.90| 11.40| 32.70| 20.10| 13.30|   5.60|\n|          BG|14.40|  8.90| 35.00| 20.40| 16.50|   4.80|\n|          BY|16.90|  9.90| 36.60| 21.30| 11.30|   3.90|\n|          CH|15.00| 10.60| 35.00| 20.90| 13.30|   5.20|\n|          CY|16.10| 12.80| 37.10| 17.90| 12.50|   3.70|\n+------------+-----+------+------+------+------+-------+\n\n"
     ]
    }
   ],
   "source": [
    "spark.sql(\"select * from raw_population_pivot limit 10\").show()"
   ]
  },
  {
   "cell_type": "markdown",
   "metadata": {
    "application/vnd.databricks.v1+cell": {
     "cellMetadata": {},
     "inputWidgets": {},
     "nuid": "bd37393e-ab3d-4296-af4d-837074856937",
     "showTitle": false,
     "title": ""
    }
   },
   "source": [
    "### Read the country lookup"
   ]
  },
  {
   "cell_type": "code",
   "execution_count": 0,
   "metadata": {
    "application/vnd.databricks.v1+cell": {
     "cellMetadata": {
      "byteLimit": 2048000,
      "rowLimit": 10000
     },
     "inputWidgets": {},
     "nuid": "bfff0984-8543-41ca-9769-385c08425869",
     "showTitle": false,
     "title": ""
    }
   },
   "outputs": [
    {
     "output_type": "display_data",
     "data": {
      "text/html": [
       "<style scoped>\n",
       "  .table-result-container {\n",
       "    max-height: 300px;\n",
       "    overflow: auto;\n",
       "  }\n",
       "  table, th, td {\n",
       "    border: 1px solid black;\n",
       "    border-collapse: collapse;\n",
       "  }\n",
       "  th, td {\n",
       "    padding: 5px;\n",
       "  }\n",
       "  th {\n",
       "    text-align: left;\n",
       "  }\n",
       "</style><div class='table-result-container'><table class='table-result'><thead style='background-color: white'><tr><th>path</th><th>name</th><th>size</th><th>modificationTime</th></tr></thead><tbody><tr><td>dbfs:/mnt/covidprojadls/lookupdata/country_lookup.csv</td><td>country_lookup.csv</td><td>7020</td><td>1718971560000</td></tr><tr><td>dbfs:/mnt/covidprojadls/lookupdata/dim_date.csv</td><td>dim_date.csv</td><td>75435</td><td>1718971561000</td></tr></tbody></table></div>"
      ]
     },
     "metadata": {
      "application/vnd.databricks.v1+output": {
       "addedWidgets": {},
       "aggData": [],
       "aggError": "",
       "aggOverflow": false,
       "aggSchema": [],
       "aggSeriesLimitReached": false,
       "aggType": "",
       "arguments": {},
       "columnCustomDisplayInfos": {},
       "data": [
        [
         "dbfs:/mnt/covidprojadls/lookupdata/country_lookup.csv",
         "country_lookup.csv",
         7020,
         1718971560000
        ],
        [
         "dbfs:/mnt/covidprojadls/lookupdata/dim_date.csv",
         "dim_date.csv",
         75435,
         1718971561000
        ]
       ],
       "datasetInfos": [],
       "dbfsResultPath": null,
       "isJsonSchema": true,
       "metadata": {
        "isDbfsCommandResult": false
       },
       "overflow": false,
       "plotOptions": {
        "customPlotOptions": {},
        "displayType": "table",
        "pivotAggregation": null,
        "pivotColumns": null,
        "xColumns": null,
        "yColumns": null
       },
       "removedWidgets": [],
       "schema": [
        {
         "metadata": "{}",
         "name": "path",
         "type": "\"string\""
        },
        {
         "metadata": "{}",
         "name": "name",
         "type": "\"string\""
        },
        {
         "metadata": "{}",
         "name": "size",
         "type": "\"long\""
        },
        {
         "metadata": "{}",
         "name": "modificationTime",
         "type": "\"long\""
        }
       ],
       "type": "table"
      }
     },
     "output_type": "display_data"
    }
   ],
   "source": [
    "%fs\n",
    "ls /mnt/covidprojadls/lookupdata/"
   ]
  },
  {
   "cell_type": "code",
   "execution_count": 0,
   "metadata": {
    "application/vnd.databricks.v1+cell": {
     "cellMetadata": {
      "byteLimit": 2048000,
      "rowLimit": 10000
     },
     "inputWidgets": {},
     "nuid": "609e3f03-b64d-47d2-bd1d-9d5ff4be719d",
     "showTitle": false,
     "title": ""
    }
   },
   "outputs": [],
   "source": [
    "# Create a data frame for the country lookup\n",
    "df_dim_country = spark.read.csv(\"/mnt/covidprojadls/lookupdata/country_lookup.csv\", sep=r',', header=True)\n",
    "df_dim_country.createOrReplaceTempView(\"dim_country\")"
   ]
  },
  {
   "cell_type": "code",
   "execution_count": 0,
   "metadata": {
    "application/vnd.databricks.v1+cell": {
     "cellMetadata": {
      "byteLimit": 2048000,
      "rowLimit": 10000
     },
     "inputWidgets": {},
     "nuid": "d78a1f1a-b0a0-4c14-8458-1d56e11f4c77",
     "showTitle": false,
     "title": ""
    }
   },
   "outputs": [
    {
     "output_type": "stream",
     "name": "stdout",
     "output_type": "stream",
     "text": [
      "+--------------------+--------------------+--------------------+---------+----------+\n|             country|country_code_2_digit|country_code_3_digit|continent|population|\n+--------------------+--------------------+--------------------+---------+----------+\n|               Aruba|                  AW|                 ABW|  America|    106766|\n|         Afghanistan|                  AF|                 AFG|     Asia|  38928341|\n|              Angola|                  AO|                 AGO|   Africa|  32866268|\n|            Anguilla|                  AI|                 AIA|  America|     15002|\n|             Albania|                  AL|                 ALB|   Europe|   2862427|\n|             Andorra|                  AD|                 AND|   Europe|     76177|\n|United Arab Emirates|                  AE|                 ARE|     Asia|   9890400|\n|           Argentina|                  AR|                 ARG|  America|  45195777|\n|             Armenia|                  AM|                 ARM|   Europe|   2963234|\n| Antigua and Barbuda|                  AG|                 ATG|  America|     97928|\n+--------------------+--------------------+--------------------+---------+----------+\n\n"
     ]
    }
   ],
   "source": [
    "spark.sql(\"select * from dim_country limit 10\").show()"
   ]
  },
  {
   "cell_type": "markdown",
   "metadata": {
    "application/vnd.databricks.v1+cell": {
     "cellMetadata": {},
     "inputWidgets": {},
     "nuid": "8220d1ba-e5ab-4df1-bfa1-00206c0988f3",
     "showTitle": false,
     "title": ""
    }
   },
   "source": [
    "### Join population data with country lookup"
   ]
  },
  {
   "cell_type": "code",
   "execution_count": 0,
   "metadata": {
    "application/vnd.databricks.v1+cell": {
     "cellMetadata": {
      "byteLimit": 2048000,
      "rowLimit": 10000
     },
     "inputWidgets": {},
     "nuid": "b61a726d-5db7-4414-aeef-106168f621ba",
     "showTitle": false,
     "title": ""
    }
   },
   "outputs": [],
   "source": [
    "df_processed_population = spark.sql(\"\"\"SELECT c.country,\n",
    "       c.country_code_2_digit,\n",
    "       c.country_code_3_digit,\n",
    "       c.population,\n",
    "       p.Y0_14  AS age_group_0_14,\n",
    "       p.Y15_24 AS age_group_15_24,\n",
    "       p.Y25_49 AS age_group_25_49,\n",
    "       p.Y50_64 AS age_group_50_64, \n",
    "       p.Y65_79 AS age_group_65_79,\n",
    "       p.Y80_MAX AS age_group_80_max\n",
    "  FROM raw_population_pivot p\n",
    "  JOIN dim_country c ON p.country_code = c.country_code_2_digit\n",
    " ORDER BY country\"\"\")"
   ]
  },
  {
   "cell_type": "code",
   "execution_count": 0,
   "metadata": {
    "application/vnd.databricks.v1+cell": {
     "cellMetadata": {
      "byteLimit": 2048000,
      "rowLimit": 10000
     },
     "inputWidgets": {},
     "nuid": "91e87ebf-09c7-4cbe-b0d4-c6f8606c19b0",
     "showTitle": false,
     "title": ""
    }
   },
   "outputs": [
    {
     "output_type": "display_data",
     "data": {
      "text/html": [
       "<style scoped>\n",
       "  .table-result-container {\n",
       "    max-height: 300px;\n",
       "    overflow: auto;\n",
       "  }\n",
       "  table, th, td {\n",
       "    border: 1px solid black;\n",
       "    border-collapse: collapse;\n",
       "  }\n",
       "  th, td {\n",
       "    padding: 5px;\n",
       "  }\n",
       "  th {\n",
       "    text-align: left;\n",
       "  }\n",
       "</style><div class='table-result-container'><table class='table-result'><thead style='background-color: white'><tr><th>country</th><th>country_code_2_digit</th><th>country_code_3_digit</th><th>population</th><th>age_group_0_14</th><th>age_group_15_24</th><th>age_group_25_49</th><th>age_group_50_64</th><th>age_group_65_79</th><th>age_group_80_max</th></tr></thead><tbody><tr><td>Albania</td><td>AL</td><td>ALB</td><td>2862427</td><td>17.20</td><td>15.50</td><td>33.00</td><td>20.20</td><td>11.40</td><td>2.70</td></tr><tr><td>Andorra</td><td>AD</td><td>AND</td><td>76177</td><td>13.90</td><td>10.60</td><td>39.40</td><td>22.50</td><td>10.20</td><td>3.40</td></tr><tr><td>Armenia</td><td>AM</td><td>ARM</td><td>2963234</td><td>20.20</td><td>11.80</td><td>36.90</td><td>19.10</td><td>9.00</td><td>3.00</td></tr><tr><td>Austria</td><td>AT</td><td>AUT</td><td>8858775</td><td>14.40</td><td>10.90</td><td>34.00</td><td>21.70</td><td>13.80</td><td>5.00</td></tr><tr><td>Azerbaijan</td><td>AZ</td><td>AZE</td><td>10139175</td><td>22.40</td><td>14.10</td><td>39.10</td><td>17.60</td><td>5.30</td><td>1.50</td></tr><tr><td>Belarus</td><td>BY</td><td>BLR</td><td>9449321</td><td>16.90</td><td>9.90</td><td>36.60</td><td>21.30</td><td>11.30</td><td>3.90</td></tr><tr><td>Belgium</td><td>BE</td><td>BEL</td><td>11455519</td><td>16.90</td><td>11.40</td><td>32.70</td><td>20.10</td><td>13.30</td><td>5.60</td></tr><tr><td>Bulgaria</td><td>BG</td><td>BGR</td><td>7000039</td><td>14.40</td><td>8.90</td><td>35.00</td><td>20.40</td><td>16.50</td><td>4.80</td></tr><tr><td>Croatia</td><td>HR</td><td>HRV</td><td>4076246</td><td>14.40</td><td>10.90</td><td>32.50</td><td>21.60</td><td>15.20</td><td>5.30</td></tr><tr><td>Cyprus</td><td>CY</td><td>CYP</td><td>875899</td><td>16.10</td><td>12.80</td><td>37.10</td><td>17.90</td><td>12.50</td><td>3.70</td></tr><tr><td>Czechia</td><td>CZ</td><td>CZE</td><td>10649800</td><td>15.90</td><td>9.10</td><td>36.70</td><td>18.80</td><td>15.50</td><td>4.10</td></tr><tr><td>Denmark</td><td>DK</td><td>DNK</td><td>5806081</td><td>16.50</td><td>12.60</td><td>31.70</td><td>19.60</td><td>15.00</td><td>4.50</td></tr><tr><td>Estonia</td><td>EE</td><td>EST</td><td>1324820</td><td>16.40</td><td>9.50</td><td>34.90</td><td>19.40</td><td>14.10</td><td>5.60</td></tr><tr><td>Finland</td><td>FI</td><td>FIN</td><td>5517919</td><td>16.00</td><td>11.20</td><td>31.20</td><td>19.90</td><td>16.30</td><td>5.50</td></tr><tr><td>France</td><td>FR</td><td>FRA</td><td>67012883</td><td>18.00</td><td>11.70</td><td>31.00</td><td>19.20</td><td>14.00</td><td>6.10</td></tr><tr><td>Georgia</td><td>GE</td><td>GEO</td><td>3989175</td><td>20.30</td><td>11.50</td><td>33.90</td><td>19.50</td><td>11.40</td><td>3.50</td></tr><tr><td>Germany</td><td>DE</td><td>DEU</td><td>83019213</td><td>13.60</td><td>10.40</td><td>31.60</td><td>22.80</td><td>15.10</td><td>6.50</td></tr><tr><td>Greece</td><td>EL</td><td>GRC</td><td>10724599</td><td>14.30</td><td>10.20</td><td>33.10</td><td>20.30</td><td>14.90</td><td>7.10</td></tr><tr><td>Hungary</td><td>HU</td><td>HUN</td><td>9772756</td><td>14.50</td><td>10.70</td><td>35.80</td><td>19.60</td><td>14.90</td><td>4.40</td></tr><tr><td>Iceland</td><td>IS</td><td>ISL</td><td>356991</td><td>19.00</td><td>13.40</td><td>35.50</td><td>17.90</td><td>10.70</td><td>3.50</td></tr><tr><td>Ireland</td><td>IE</td><td>IRL</td><td>4904240</td><td>20.50</td><td>12.60</td><td>35.60</td><td>17.20</td><td>10.80</td><td>3.30</td></tr><tr><td>Italy</td><td>IT</td><td>ITA</td><td>60359546</td><td>13.20</td><td>9.80</td><td>32.40</td><td>21.90</td><td>15.70</td><td>7.20</td></tr><tr><td>Latvia</td><td>LV</td><td>LVA</td><td>1919968</td><td>15.90</td><td>9.20</td><td>33.80</td><td>20.90</td><td>14.70</td><td>5.60</td></tr><tr><td>Liechtenstein</td><td>LI</td><td>LIE</td><td>38378</td><td>14.70</td><td>10.90</td><td>33.30</td><td>23.20</td><td>14.10</td><td>3.80</td></tr><tr><td>Lithuania</td><td>LT</td><td>LTU</td><td>2794184</td><td>15.10</td><td>10.50</td><td>32.70</td><td>21.90</td><td>14.00</td><td>5.80</td></tr><tr><td>Luxembourg</td><td>LU</td><td>LUX</td><td>613894</td><td>16.10</td><td>11.60</td><td>38.20</td><td>19.80</td><td>10.40</td><td>4.00</td></tr><tr><td>Malta</td><td>MT</td><td>MLT</td><td>493559</td><td>13.70</td><td>11.00</td><td>38.50</td><td>18.20</td><td>14.50</td><td>4.20</td></tr><tr><td>Moldova</td><td>MD</td><td>MDA</td><td>4033963</td><td>null</td><td>null</td><td>null</td><td>null</td><td>null</td><td>null</td></tr><tr><td>Montenegro</td><td>ME</td><td>MNE</td><td>622182</td><td>18.00</td><td>13.00</td><td>34.20</td><td>19.80</td><td>11.90</td><td>3.30</td></tr><tr><td>Netherlands</td><td>NL</td><td>NLD</td><td>17282163</td><td>15.90</td><td>12.30</td><td>31.80</td><td>20.90</td><td>14.60</td><td>4.60</td></tr><tr><td>North Macedonia</td><td>MK</td><td>MKD</td><td>2077132</td><td>16.40</td><td>12.40</td><td>37.50</td><td>19.70</td><td>11.50</td><td>2.50</td></tr><tr><td>Norway</td><td>NO</td><td>NOR</td><td>5328212</td><td>17.50</td><td>12.40</td><td>34.10</td><td>18.70</td><td>13.00</td><td>4.20</td></tr><tr><td>Poland</td><td>PL</td><td>POL</td><td>37972812</td><td>15.40</td><td>10.30</td><td>37.00</td><td>19.70</td><td>13.30</td><td>4.40</td></tr><tr><td>Portugal</td><td>PT</td><td>PRT</td><td>10276617</td><td>13.70</td><td>10.60</td><td>32.90</td><td>20.90</td><td>15.40</td><td>6.40</td></tr><tr><td>Romania</td><td>RO</td><td>ROU</td><td>19414458</td><td>15.70</td><td>10.60</td><td>35.60</td><td>19.70</td><td>13.90</td><td>4.70</td></tr><tr><td>Russia</td><td>RU</td><td>RUS</td><td>145934460</td><td>null</td><td>null</td><td>null</td><td>null</td><td>null</td><td>null</td></tr><tr><td>San Marino</td><td>SM</td><td>SMR</td><td>34453</td><td>null</td><td>null</td><td>null</td><td>null</td><td>null</td><td>null</td></tr><tr><td>Serbia</td><td>RS</td><td>SRB</td><td>6963764</td><td>14.30</td><td>10.50</td><td>33.80</td><td>20.90</td><td>15.80</td><td>4.60</td></tr><tr><td>Slovakia</td><td>SK</td><td>SVK</td><td>5450421</td><td>15.70</td><td>10.40</td><td>38.10</td><td>19.70</td><td>12.70</td><td>3.30</td></tr><tr><td>Slovenia</td><td>SI</td><td>SVN</td><td>2080908</td><td>15.10</td><td>9.40</td><td>34.10</td><td>21.60</td><td>14.50</td><td>5.30</td></tr><tr><td>Spain</td><td>ES</td><td>ESP</td><td>46937060</td><td>14.80</td><td>9.80</td><td>35.30</td><td>20.70</td><td>13.30</td><td>6.10</td></tr><tr><td>Sweden</td><td>SE</td><td>SWE</td><td>10230185</td><td>17.80</td><td>11.30</td><td>32.90</td><td>18.10</td><td>14.80</td><td>5.10</td></tr><tr><td>Switzerland</td><td>CH</td><td>CHE</td><td>8544527</td><td>15.00</td><td>10.60</td><td>35.00</td><td>20.90</td><td>13.30</td><td>5.20</td></tr><tr><td>Turkey</td><td>TR</td><td>TUR</td><td>82003882</td><td>23.40</td><td>15.80</td><td>37.00</td><td>15.00</td><td>7.00</td><td>1.80</td></tr><tr><td>Ukraine</td><td>UA</td><td>UKR</td><td>43733759</td><td>15.40</td><td>9.60</td><td>37.60</td><td>20.60</td><td>12.50</td><td>4.30</td></tr><tr><td>United Kingdom</td><td>UK</td><td>GBR</td><td>66647112</td><td>17.90</td><td>11.80</td><td>32.80</td><td>19.10</td><td>13.40</td><td>5.00</td></tr></tbody></table></div>"
      ]
     },
     "metadata": {
      "application/vnd.databricks.v1+output": {
       "addedWidgets": {},
       "aggData": [],
       "aggError": "",
       "aggOverflow": false,
       "aggSchema": [],
       "aggSeriesLimitReached": false,
       "aggType": "",
       "arguments": {},
       "columnCustomDisplayInfos": {},
       "data": [
        [
         "Albania",
         "AL",
         "ALB",
         "2862427",
         "17.20",
         "15.50",
         "33.00",
         "20.20",
         "11.40",
         "2.70"
        ],
        [
         "Andorra",
         "AD",
         "AND",
         "76177",
         "13.90",
         "10.60",
         "39.40",
         "22.50",
         "10.20",
         "3.40"
        ],
        [
         "Armenia",
         "AM",
         "ARM",
         "2963234",
         "20.20",
         "11.80",
         "36.90",
         "19.10",
         "9.00",
         "3.00"
        ],
        [
         "Austria",
         "AT",
         "AUT",
         "8858775",
         "14.40",
         "10.90",
         "34.00",
         "21.70",
         "13.80",
         "5.00"
        ],
        [
         "Azerbaijan",
         "AZ",
         "AZE",
         "10139175",
         "22.40",
         "14.10",
         "39.10",
         "17.60",
         "5.30",
         "1.50"
        ],
        [
         "Belarus",
         "BY",
         "BLR",
         "9449321",
         "16.90",
         "9.90",
         "36.60",
         "21.30",
         "11.30",
         "3.90"
        ],
        [
         "Belgium",
         "BE",
         "BEL",
         "11455519",
         "16.90",
         "11.40",
         "32.70",
         "20.10",
         "13.30",
         "5.60"
        ],
        [
         "Bulgaria",
         "BG",
         "BGR",
         "7000039",
         "14.40",
         "8.90",
         "35.00",
         "20.40",
         "16.50",
         "4.80"
        ],
        [
         "Croatia",
         "HR",
         "HRV",
         "4076246",
         "14.40",
         "10.90",
         "32.50",
         "21.60",
         "15.20",
         "5.30"
        ],
        [
         "Cyprus",
         "CY",
         "CYP",
         "875899",
         "16.10",
         "12.80",
         "37.10",
         "17.90",
         "12.50",
         "3.70"
        ],
        [
         "Czechia",
         "CZ",
         "CZE",
         "10649800",
         "15.90",
         "9.10",
         "36.70",
         "18.80",
         "15.50",
         "4.10"
        ],
        [
         "Denmark",
         "DK",
         "DNK",
         "5806081",
         "16.50",
         "12.60",
         "31.70",
         "19.60",
         "15.00",
         "4.50"
        ],
        [
         "Estonia",
         "EE",
         "EST",
         "1324820",
         "16.40",
         "9.50",
         "34.90",
         "19.40",
         "14.10",
         "5.60"
        ],
        [
         "Finland",
         "FI",
         "FIN",
         "5517919",
         "16.00",
         "11.20",
         "31.20",
         "19.90",
         "16.30",
         "5.50"
        ],
        [
         "France",
         "FR",
         "FRA",
         "67012883",
         "18.00",
         "11.70",
         "31.00",
         "19.20",
         "14.00",
         "6.10"
        ],
        [
         "Georgia",
         "GE",
         "GEO",
         "3989175",
         "20.30",
         "11.50",
         "33.90",
         "19.50",
         "11.40",
         "3.50"
        ],
        [
         "Germany",
         "DE",
         "DEU",
         "83019213",
         "13.60",
         "10.40",
         "31.60",
         "22.80",
         "15.10",
         "6.50"
        ],
        [
         "Greece",
         "EL",
         "GRC",
         "10724599",
         "14.30",
         "10.20",
         "33.10",
         "20.30",
         "14.90",
         "7.10"
        ],
        [
         "Hungary",
         "HU",
         "HUN",
         "9772756",
         "14.50",
         "10.70",
         "35.80",
         "19.60",
         "14.90",
         "4.40"
        ],
        [
         "Iceland",
         "IS",
         "ISL",
         "356991",
         "19.00",
         "13.40",
         "35.50",
         "17.90",
         "10.70",
         "3.50"
        ],
        [
         "Ireland",
         "IE",
         "IRL",
         "4904240",
         "20.50",
         "12.60",
         "35.60",
         "17.20",
         "10.80",
         "3.30"
        ],
        [
         "Italy",
         "IT",
         "ITA",
         "60359546",
         "13.20",
         "9.80",
         "32.40",
         "21.90",
         "15.70",
         "7.20"
        ],
        [
         "Latvia",
         "LV",
         "LVA",
         "1919968",
         "15.90",
         "9.20",
         "33.80",
         "20.90",
         "14.70",
         "5.60"
        ],
        [
         "Liechtenstein",
         "LI",
         "LIE",
         "38378",
         "14.70",
         "10.90",
         "33.30",
         "23.20",
         "14.10",
         "3.80"
        ],
        [
         "Lithuania",
         "LT",
         "LTU",
         "2794184",
         "15.10",
         "10.50",
         "32.70",
         "21.90",
         "14.00",
         "5.80"
        ],
        [
         "Luxembourg",
         "LU",
         "LUX",
         "613894",
         "16.10",
         "11.60",
         "38.20",
         "19.80",
         "10.40",
         "4.00"
        ],
        [
         "Malta",
         "MT",
         "MLT",
         "493559",
         "13.70",
         "11.00",
         "38.50",
         "18.20",
         "14.50",
         "4.20"
        ],
        [
         "Moldova",
         "MD",
         "MDA",
         "4033963",
         null,
         null,
         null,
         null,
         null,
         null
        ],
        [
         "Montenegro",
         "ME",
         "MNE",
         "622182",
         "18.00",
         "13.00",
         "34.20",
         "19.80",
         "11.90",
         "3.30"
        ],
        [
         "Netherlands",
         "NL",
         "NLD",
         "17282163",
         "15.90",
         "12.30",
         "31.80",
         "20.90",
         "14.60",
         "4.60"
        ],
        [
         "North Macedonia",
         "MK",
         "MKD",
         "2077132",
         "16.40",
         "12.40",
         "37.50",
         "19.70",
         "11.50",
         "2.50"
        ],
        [
         "Norway",
         "NO",
         "NOR",
         "5328212",
         "17.50",
         "12.40",
         "34.10",
         "18.70",
         "13.00",
         "4.20"
        ],
        [
         "Poland",
         "PL",
         "POL",
         "37972812",
         "15.40",
         "10.30",
         "37.00",
         "19.70",
         "13.30",
         "4.40"
        ],
        [
         "Portugal",
         "PT",
         "PRT",
         "10276617",
         "13.70",
         "10.60",
         "32.90",
         "20.90",
         "15.40",
         "6.40"
        ],
        [
         "Romania",
         "RO",
         "ROU",
         "19414458",
         "15.70",
         "10.60",
         "35.60",
         "19.70",
         "13.90",
         "4.70"
        ],
        [
         "Russia",
         "RU",
         "RUS",
         "145934460",
         null,
         null,
         null,
         null,
         null,
         null
        ],
        [
         "San Marino",
         "SM",
         "SMR",
         "34453",
         null,
         null,
         null,
         null,
         null,
         null
        ],
        [
         "Serbia",
         "RS",
         "SRB",
         "6963764",
         "14.30",
         "10.50",
         "33.80",
         "20.90",
         "15.80",
         "4.60"
        ],
        [
         "Slovakia",
         "SK",
         "SVK",
         "5450421",
         "15.70",
         "10.40",
         "38.10",
         "19.70",
         "12.70",
         "3.30"
        ],
        [
         "Slovenia",
         "SI",
         "SVN",
         "2080908",
         "15.10",
         "9.40",
         "34.10",
         "21.60",
         "14.50",
         "5.30"
        ],
        [
         "Spain",
         "ES",
         "ESP",
         "46937060",
         "14.80",
         "9.80",
         "35.30",
         "20.70",
         "13.30",
         "6.10"
        ],
        [
         "Sweden",
         "SE",
         "SWE",
         "10230185",
         "17.80",
         "11.30",
         "32.90",
         "18.10",
         "14.80",
         "5.10"
        ],
        [
         "Switzerland",
         "CH",
         "CHE",
         "8544527",
         "15.00",
         "10.60",
         "35.00",
         "20.90",
         "13.30",
         "5.20"
        ],
        [
         "Turkey",
         "TR",
         "TUR",
         "82003882",
         "23.40",
         "15.80",
         "37.00",
         "15.00",
         "7.00",
         "1.80"
        ],
        [
         "Ukraine",
         "UA",
         "UKR",
         "43733759",
         "15.40",
         "9.60",
         "37.60",
         "20.60",
         "12.50",
         "4.30"
        ],
        [
         "United Kingdom",
         "UK",
         "GBR",
         "66647112",
         "17.90",
         "11.80",
         "32.80",
         "19.10",
         "13.40",
         "5.00"
        ]
       ],
       "datasetInfos": [],
       "dbfsResultPath": null,
       "isJsonSchema": true,
       "metadata": {},
       "overflow": false,
       "plotOptions": {
        "customPlotOptions": {},
        "displayType": "table",
        "pivotAggregation": null,
        "pivotColumns": null,
        "xColumns": null,
        "yColumns": null
       },
       "removedWidgets": [],
       "schema": [
        {
         "metadata": "{}",
         "name": "country",
         "type": "\"string\""
        },
        {
         "metadata": "{}",
         "name": "country_code_2_digit",
         "type": "\"string\""
        },
        {
         "metadata": "{}",
         "name": "country_code_3_digit",
         "type": "\"string\""
        },
        {
         "metadata": "{}",
         "name": "population",
         "type": "\"string\""
        },
        {
         "metadata": "{}",
         "name": "age_group_0_14",
         "type": "\"decimal(14,2)\""
        },
        {
         "metadata": "{}",
         "name": "age_group_15_24",
         "type": "\"decimal(14,2)\""
        },
        {
         "metadata": "{}",
         "name": "age_group_25_49",
         "type": "\"decimal(14,2)\""
        },
        {
         "metadata": "{}",
         "name": "age_group_50_64",
         "type": "\"decimal(14,2)\""
        },
        {
         "metadata": "{}",
         "name": "age_group_65_79",
         "type": "\"decimal(14,2)\""
        },
        {
         "metadata": "{}",
         "name": "age_group_80_max",
         "type": "\"decimal(14,2)\""
        }
       ],
       "type": "table"
      }
     },
     "output_type": "display_data"
    }
   ],
   "source": [
    "display(df_processed_population)"
   ]
  },
  {
   "cell_type": "markdown",
   "metadata": {
    "application/vnd.databricks.v1+cell": {
     "cellMetadata": {},
     "inputWidgets": {},
     "nuid": "2e4d47eb-1baf-48f6-a9a1-2b19e7957264",
     "showTitle": false,
     "title": ""
    }
   },
   "source": [
    "### Write output to the processed mount point"
   ]
  },
  {
   "cell_type": "code",
   "execution_count": 0,
   "metadata": {
    "application/vnd.databricks.v1+cell": {
     "cellMetadata": {
      "byteLimit": 2048000,
      "rowLimit": 10000
     },
     "inputWidgets": {},
     "nuid": "2002aeb4-c8e8-4b8a-b9e1-4992d917d77d",
     "showTitle": false,
     "title": ""
    }
   },
   "outputs": [],
   "source": [
    "df_processed_population.write.format(\"csv\").option(\"header\",\"true\").option(\"delimiter\", \",\").mode(\"overwrite\").save(\"/mnt/covidprojadls/processed/population\")"
   ]
  }
 ],
 "metadata": {
  "application/vnd.databricks.v1+notebook": {
   "dashboards": [],
   "environmentMetadata": null,
   "language": "python",
   "notebookMetadata": {
    "mostRecentlyExecutedCommandWithImplicitDF": {
     "commandId": 806821008126512,
     "dataframes": [
      "_sqldf"
     ]
    },
    "pythonIndentUnit": 4
   },
   "notebookName": "transform_population_data",
   "widgets": {}
  }
 },
 "nbformat": 4,
 "nbformat_minor": 0
}
